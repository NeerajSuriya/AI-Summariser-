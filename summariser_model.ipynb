{
 "cells": [
  {
   "cell_type": "markdown",
   "id": "36b0d19f",
   "metadata": {},
   "source": [
    "Essential Packages"
   ]
  },
  {
   "cell_type": "code",
   "execution_count": 1,
   "id": "8ec38215",
   "metadata": {},
   "outputs": [
    {
     "name": "stdout",
     "output_type": "stream",
     "text": [
      "Requirement already satisfied: groq in /home/sneeraj/miniconda3/envs/summariser/lib/python3.10/site-packages (0.31.0)\n",
      "Requirement already satisfied: anyio<5,>=3.5.0 in /home/sneeraj/miniconda3/envs/summariser/lib/python3.10/site-packages (from groq) (4.10.0)\n",
      "Requirement already satisfied: distro<2,>=1.7.0 in /home/sneeraj/miniconda3/envs/summariser/lib/python3.10/site-packages (from groq) (1.9.0)\n",
      "Requirement already satisfied: httpx<1,>=0.23.0 in /home/sneeraj/miniconda3/envs/summariser/lib/python3.10/site-packages (from groq) (0.28.1)\n",
      "Requirement already satisfied: pydantic<3,>=1.9.0 in /home/sneeraj/miniconda3/envs/summariser/lib/python3.10/site-packages (from groq) (2.11.7)\n",
      "Requirement already satisfied: sniffio in /home/sneeraj/miniconda3/envs/summariser/lib/python3.10/site-packages (from groq) (1.3.1)\n",
      "Requirement already satisfied: typing-extensions<5,>=4.10 in /home/sneeraj/miniconda3/envs/summariser/lib/python3.10/site-packages (from groq) (4.15.0)\n",
      "Requirement already satisfied: exceptiongroup>=1.0.2 in /home/sneeraj/miniconda3/envs/summariser/lib/python3.10/site-packages (from anyio<5,>=3.5.0->groq) (1.3.0)\n",
      "Requirement already satisfied: idna>=2.8 in /home/sneeraj/miniconda3/envs/summariser/lib/python3.10/site-packages (from anyio<5,>=3.5.0->groq) (3.10)\n",
      "Requirement already satisfied: certifi in /home/sneeraj/miniconda3/envs/summariser/lib/python3.10/site-packages (from httpx<1,>=0.23.0->groq) (2025.8.3)\n",
      "Requirement already satisfied: httpcore==1.* in /home/sneeraj/miniconda3/envs/summariser/lib/python3.10/site-packages (from httpx<1,>=0.23.0->groq) (1.0.9)\n",
      "Requirement already satisfied: h11>=0.16 in /home/sneeraj/miniconda3/envs/summariser/lib/python3.10/site-packages (from httpcore==1.*->httpx<1,>=0.23.0->groq) (0.16.0)\n",
      "Requirement already satisfied: annotated-types>=0.6.0 in /home/sneeraj/miniconda3/envs/summariser/lib/python3.10/site-packages (from pydantic<3,>=1.9.0->groq) (0.7.0)\n",
      "Requirement already satisfied: pydantic-core==2.33.2 in /home/sneeraj/miniconda3/envs/summariser/lib/python3.10/site-packages (from pydantic<3,>=1.9.0->groq) (2.33.2)\n",
      "Requirement already satisfied: typing-inspection>=0.4.0 in /home/sneeraj/miniconda3/envs/summariser/lib/python3.10/site-packages (from pydantic<3,>=1.9.0->groq) (0.4.1)\n",
      "\u001b[33mDEPRECATION: textract 1.6.5 has a non-standard dependency specifier extract-msg<=0.29.*. pip 24.1 will enforce this behaviour change. A possible replacement is to upgrade to a newer version of textract or contact the author to suggest that they release a version with a conforming dependency specifiers. Discussion can be found at https://github.com/pypa/pip/issues/12063\u001b[0m\u001b[33m\n",
      "\u001b[0m\n",
      "\u001b[1m[\u001b[0m\u001b[34;49mnotice\u001b[0m\u001b[1;39;49m]\u001b[0m\u001b[39;49m A new release of pip is available: \u001b[0m\u001b[31;49m24.0\u001b[0m\u001b[39;49m -> \u001b[0m\u001b[32;49m25.2\u001b[0m\n",
      "\u001b[1m[\u001b[0m\u001b[34;49mnotice\u001b[0m\u001b[1;39;49m]\u001b[0m\u001b[39;49m To update, run: \u001b[0m\u001b[32;49mpip install --upgrade pip\u001b[0m\n",
      "Note: you may need to restart the kernel to use updated packages.\n"
     ]
    }
   ],
   "source": [
    "%pip install  groq\n"
   ]
  },
  {
   "cell_type": "code",
   "execution_count": 2,
   "id": "a2163276",
   "metadata": {},
   "outputs": [],
   "source": [
    "# pip install groq pdfplumber pytesseract watchdog python-dotenv pdf2image python-docx docx2txt \n"
   ]
  },
  {
   "cell_type": "code",
   "execution_count": 3,
   "id": "70062cae",
   "metadata": {},
   "outputs": [],
   "source": [
    "# %pip install \"pip<24.1\"\n",
    "# %pip install textract\n"
   ]
  },
  {
   "cell_type": "code",
   "execution_count": 4,
   "id": "b8f1d3e7",
   "metadata": {},
   "outputs": [
    {
     "name": "stdout",
     "output_type": "stream",
     "text": [
      "Requirement already satisfied: pymupdf in /home/sneeraj/miniconda3/envs/summariser/lib/python3.10/site-packages (1.26.4)\n",
      "\u001b[33mDEPRECATION: textract 1.6.5 has a non-standard dependency specifier extract-msg<=0.29.*. pip 24.1 will enforce this behaviour change. A possible replacement is to upgrade to a newer version of textract or contact the author to suggest that they release a version with a conforming dependency specifiers. Discussion can be found at https://github.com/pypa/pip/issues/12063\u001b[0m\u001b[33m\n",
      "\u001b[0m\n",
      "\u001b[1m[\u001b[0m\u001b[34;49mnotice\u001b[0m\u001b[1;39;49m]\u001b[0m\u001b[39;49m A new release of pip is available: \u001b[0m\u001b[31;49m24.0\u001b[0m\u001b[39;49m -> \u001b[0m\u001b[32;49m25.2\u001b[0m\n",
      "\u001b[1m[\u001b[0m\u001b[34;49mnotice\u001b[0m\u001b[1;39;49m]\u001b[0m\u001b[39;49m To update, run: \u001b[0m\u001b[32;49mpip install --upgrade pip\u001b[0m\n",
      "Note: you may need to restart the kernel to use updated packages.\n"
     ]
    }
   ],
   "source": [
    "%pip install --upgrade pymupdf"
   ]
  },
  {
   "cell_type": "markdown",
   "id": "cf4773df",
   "metadata": {},
   "source": [
    "API connections"
   ]
  },
  {
   "cell_type": "code",
   "execution_count": 16,
   "id": "10ff6701",
   "metadata": {},
   "outputs": [
    {
     "data": {
      "text/plain": [
       "True"
      ]
     },
     "execution_count": 16,
     "metadata": {},
     "output_type": "execute_result"
    }
   ],
   "source": [
    "import os\n",
    "from dotenv import load_dotenv\n",
    "load_dotenv()"
   ]
  },
  {
   "cell_type": "code",
   "execution_count": 17,
   "id": "2405c2bc",
   "metadata": {},
   "outputs": [],
   "source": [
    "GROQ_API_KEY=os.environ.get(\"GROQ_API_KEY\")"
   ]
  },
  {
   "cell_type": "code",
   "execution_count": null,
   "id": "2cc91c40",
   "metadata": {},
   "outputs": [],
   "source": []
  },
  {
   "cell_type": "code",
   "execution_count": 18,
   "id": "0d79c1ad",
   "metadata": {},
   "outputs": [],
   "source": [
    "import os \n",
    "import groq\n",
    "\n",
    "groq.api_key = GROQ_API_KEY"
   ]
  },
  {
   "cell_type": "markdown",
   "id": "bd53b198",
   "metadata": {},
   "source": [
    "Extracting files"
   ]
  },
  {
   "cell_type": "code",
   "execution_count": 19,
   "id": "0e63af5d",
   "metadata": {},
   "outputs": [],
   "source": [
    "import pdfplumber"
   ]
  },
  {
   "cell_type": "code",
   "execution_count": 20,
   "id": "02f631d1",
   "metadata": {},
   "outputs": [],
   "source": [
    "import groq"
   ]
  },
  {
   "cell_type": "code",
   "execution_count": 59,
   "id": "b61c23fd",
   "metadata": {},
   "outputs": [
    {
     "name": "stdout",
     "output_type": "stream",
     "text": [
      "Processing file: 002.pdf\n"
     ]
    }
   ],
   "source": [
    "from groq import Groq\n",
    "client = Groq(api_key=groq.api_key)\n",
    "\n",
    "\n",
    "summary_dict = {}\n",
    "\n",
    "folder_queue = \"resumes/queue\"\n",
    "for filename in os.listdir(folder_queue):\n",
    "    filepath = os.path.join(folder_queue,filename)\n",
    "    if os.path.isfile(filepath) and filename.lower().endswith((\".pdf\")):\n",
    "        print(\"Processing file:\", filename)\n",
    "        doc = pdfplumber.open(f\"/home/sneeraj/summariser/resumes/queue/{filename}\")\n",
    "        for page in doc.pages:\n",
    "            text = page.extract_text() + \"\\n\"\n",
    "            # print(text)\n",
    "            prompt = text + \"\\n tl;dr:\"\n",
    "            # print(len(text), text[:500])\n",
    "            response = client.chat.completions.create(\n",
    "                model=\"llama-3.3-70b-versatile\",\n",
    "                messages = [\n",
    "                    {\"role\": \"system\",\n",
    "                    \"content\" : (\n",
    "                        \"You are a AI assistant that extracts resume information from a resume  \"\n",
    "                        \"always return json dont inclue any other text\"\n",
    "                        \n",
    "                    )},\n",
    "                    {\"role\": \"user\",\n",
    "                    \"content\" : (\n",
    "                        \"first check if the pdf is valid or not and mark the status as valid or invalid if invalid u dont have to extract details just return the status in that json file\"\n",
    "                        f\"Here is the resume \\n\\n {text}\\n\\n return this in json formate : \\n and summarise at the end \"\n",
    "                            \"{\\n\"\n",
    "                            '  \"status\": \"valid\" or \"invalid\",\\n'\n",
    "                            '  \"name\": \"\",\\n'\n",
    "                            '  \"email\": \"\",\\n'\n",
    "                            '  \"phone\": \"\",\\n'\n",
    "                            '  \"location\": \"\",\\n'\n",
    "                            '  \"education\": [],\\n'\n",
    "                            '  \"experience\": [],\\n'\n",
    "                            '  \"skills\": []\\n'\n",
    "                            '  \"summary\": \"\",'\n",
    "                            \"}\"\n",
    "\n",
    "                    )\n",
    "                    }\n",
    "                ],\n",
    "                temperature=0.0,\n",
    "                max_tokens=500,\n",
    "            )\n",
    "    summary_dict[filename] = response.choices[0].message.content"
   ]
  },
  {
   "cell_type": "code",
   "execution_count": 11,
   "id": "d7b1ec46",
   "metadata": {},
   "outputs": [
    {
     "name": "stdout",
     "output_type": "stream",
     "text": [
      "valid\n"
     ]
    }
   ],
   "source": [
    "import json\n",
    "status = json.loads(summary_dict[\"001.pdf\"])[\"status\"]\n",
    "print(status)"
   ]
  },
  {
   "cell_type": "code",
   "execution_count": 29,
   "id": "229d7443",
   "metadata": {},
   "outputs": [
    {
     "name": "stdout",
     "output_type": "stream",
     "text": [
      "Requirement already satisfied: pinecone in /home/sneeraj/miniconda3/envs/summariser/lib/python3.10/site-packages (7.3.0)\n",
      "Requirement already satisfied: certifi>=2019.11.17 in /home/sneeraj/miniconda3/envs/summariser/lib/python3.10/site-packages (from pinecone) (2025.8.3)\n",
      "Requirement already satisfied: pinecone-plugin-assistant<2.0.0,>=1.6.0 in /home/sneeraj/miniconda3/envs/summariser/lib/python3.10/site-packages (from pinecone) (1.8.0)\n",
      "Requirement already satisfied: pinecone-plugin-interface<0.0.8,>=0.0.7 in /home/sneeraj/miniconda3/envs/summariser/lib/python3.10/site-packages (from pinecone) (0.0.7)\n",
      "Requirement already satisfied: python-dateutil>=2.5.3 in /home/sneeraj/miniconda3/envs/summariser/lib/python3.10/site-packages (from pinecone) (2.9.0.post0)\n",
      "Requirement already satisfied: typing-extensions>=3.7.4 in /home/sneeraj/miniconda3/envs/summariser/lib/python3.10/site-packages (from pinecone) (4.15.0)\n",
      "Requirement already satisfied: urllib3>=1.26.0 in /home/sneeraj/miniconda3/envs/summariser/lib/python3.10/site-packages (from pinecone) (2.5.0)\n",
      "Requirement already satisfied: packaging<25.0,>=24.2 in /home/sneeraj/miniconda3/envs/summariser/lib/python3.10/site-packages (from pinecone-plugin-assistant<2.0.0,>=1.6.0->pinecone) (24.2)\n",
      "Requirement already satisfied: requests<3.0.0,>=2.32.3 in /home/sneeraj/miniconda3/envs/summariser/lib/python3.10/site-packages (from pinecone-plugin-assistant<2.0.0,>=1.6.0->pinecone) (2.32.5)\n",
      "Requirement already satisfied: six>=1.5 in /home/sneeraj/miniconda3/envs/summariser/lib/python3.10/site-packages (from python-dateutil>=2.5.3->pinecone) (1.12.0)\n",
      "Requirement already satisfied: charset_normalizer<4,>=2 in /home/sneeraj/miniconda3/envs/summariser/lib/python3.10/site-packages (from requests<3.0.0,>=2.32.3->pinecone-plugin-assistant<2.0.0,>=1.6.0->pinecone) (3.4.3)\n",
      "Requirement already satisfied: idna<4,>=2.5 in /home/sneeraj/miniconda3/envs/summariser/lib/python3.10/site-packages (from requests<3.0.0,>=2.32.3->pinecone-plugin-assistant<2.0.0,>=1.6.0->pinecone) (3.10)\n",
      "\u001b[33mDEPRECATION: textract 1.6.5 has a non-standard dependency specifier extract-msg<=0.29.*. pip 24.1 will enforce this behaviour change. A possible replacement is to upgrade to a newer version of textract or contact the author to suggest that they release a version with a conforming dependency specifiers. Discussion can be found at https://github.com/pypa/pip/issues/12063\u001b[0m\u001b[33m\n",
      "\u001b[0m\n",
      "\u001b[1m[\u001b[0m\u001b[34;49mnotice\u001b[0m\u001b[1;39;49m]\u001b[0m\u001b[39;49m A new release of pip is available: \u001b[0m\u001b[31;49m24.0\u001b[0m\u001b[39;49m -> \u001b[0m\u001b[32;49m25.2\u001b[0m\n",
      "\u001b[1m[\u001b[0m\u001b[34;49mnotice\u001b[0m\u001b[1;39;49m]\u001b[0m\u001b[39;49m To update, run: \u001b[0m\u001b[32;49mpip install --upgrade pip\u001b[0m\n",
      "Note: you may need to restart the kernel to use updated packages.\n"
     ]
    }
   ],
   "source": [
    "%pip install pinecone"
   ]
  },
  {
   "cell_type": "code",
   "execution_count": null,
   "id": "7bef5d00",
   "metadata": {},
   "outputs": [
    {
     "name": "stdout",
     "output_type": "stream",
     "text": [
      "\u001b[1;32m2\u001b[0m\u001b[1;32m channel Terms of Service accepted\u001b[0m\n",
      "Retrieving notices: done\n",
      "Channels:\n",
      " - conda-forge\n",
      " - defaults\n",
      "Platform: linux-64\n",
      "Collecting package metadata (repodata.json): done\n",
      "Solving environment: done\n",
      "\n",
      "\n",
      "==> WARNING: A newer version of conda exists. <==\n",
      "    current version: 25.5.1\n",
      "    latest version: 25.7.0\n",
      "\n",
      "Please update conda by running\n",
      "\n",
      "    $ conda update -n base -c defaults conda\n",
      "\n",
      "\n",
      "\n",
      "## Package Plan ##\n",
      "\n",
      "  environment location: /home/sneeraj/miniconda3/envs/summariser\n",
      "\n",
      "  added / updated specs:\n",
      "    - ipywidgets\n",
      "\n",
      "\n",
      "The following packages will be downloaded:\n",
      "\n",
      "    package                    |            build\n",
      "    ---------------------------|-----------------\n",
      "    ipywidgets-8.1.7           |     pyhd8ed1ab_0         112 KB  conda-forge\n",
      "    jupyterlab_widgets-3.0.15  |     pyhd8ed1ab_0         185 KB  conda-forge\n",
      "    widgetsnbextension-4.0.14  |     pyhd8ed1ab_0         868 KB  conda-forge\n",
      "    ------------------------------------------------------------\n",
      "                                           Total:         1.1 MB\n",
      "\n",
      "The following NEW packages will be INSTALLED:\n",
      "\n",
      "  ipywidgets         conda-forge/noarch::ipywidgets-8.1.7-pyhd8ed1ab_0 \n",
      "  jupyterlab_widgets conda-forge/noarch::jupyterlab_widgets-3.0.15-pyhd8ed1ab_0 \n",
      "  widgetsnbextension conda-forge/noarch::widgetsnbextension-4.0.14-pyhd8ed1ab_0 \n",
      "\n",
      "\n",
      "\n",
      "Downloading and Extracting Packages:\n",
      "widgetsnbextension-4 | 868 KB    |                                       |   0% \n",
      "jupyterlab_widgets-3 | 185 KB    |                                       |   0% \u001b[A\n",
      "\n",
      "ipywidgets-8.1.7     | 112 KB    |                                       |   0% \u001b[A\u001b[A\n",
      "jupyterlab_widgets-3 | 185 KB    | ###2                                  |   9% \u001b[A\n",
      "\n",
      "ipywidgets-8.1.7     | 112 KB    | #####2                                |  14% \u001b[A\u001b[A\n",
      "\n",
      "widgetsnbextension-4 | 868 KB    | 6                                     |   2% \u001b[A\u001b[A\n",
      "jupyterlab_widgets-3 | 185 KB    | ##################################### | 100% \u001b[A\n",
      "\n",
      "ipywidgets-8.1.7     | 112 KB    | ##################################### | 100% \u001b[A\u001b[A\n",
      "                                                                                \u001b[A\n",
      "                                                                                \u001b[A\n",
      "\n",
      "                                                                                \u001b[A\u001b[A\n",
      "Preparing transaction: done\n",
      "Verifying transaction: done\n",
      "Executing transaction: done\n",
      "\n",
      "Note: you may need to restart the kernel to use updated packages.\n"
     ]
    }
   ],
   "source": [
    "# conda install -c conda-forge ipywidgets\n"
   ]
  },
  {
   "cell_type": "code",
   "execution_count": 54,
   "id": "0f3304cc",
   "metadata": {},
   "outputs": [],
   "source": [
    "import os\n",
    "from pinecone import Pinecone, ServerlessSpec\n",
    "from groq import Groq\n",
    "import json\n",
    "\n",
    "PINECONE_API_KEY = os.getenv(\"PINECONE_API_KEY\")\n",
    "pc = Pinecone(api_key = PINECONE_API_KEY)\n",
    "\n",
    "\n",
    "index_name = \"resumes\"\n",
    "if index_name not in pc.list_indexes().names():\n",
    "    pc.create_index(\n",
    "        name=index_name,\n",
    "        dimension = 384,\n",
    "        metric = \"cosine\",\n",
    "        spec=ServerlessSpec(\n",
    "        cloud=\"aws\",      # or \"gcp\"\n",
    "        region=\"us-east-1\"\n",
    "        )\n",
    "    )\n",
    "index = pc.Index(index_name)\n",
    "\n",
    "\n",
    "\n"
   ]
  },
  {
   "cell_type": "code",
   "execution_count": 52,
   "id": "82a2cb53",
   "metadata": {},
   "outputs": [
    {
     "name": "stdout",
     "output_type": "stream",
     "text": [
      "Requirement already satisfied: sentence-transformers in /home/sneeraj/miniconda3/envs/summariser/lib/python3.10/site-packages (5.1.0)\n",
      "Requirement already satisfied: transformers<5.0.0,>=4.41.0 in /home/sneeraj/miniconda3/envs/summariser/lib/python3.10/site-packages (from sentence-transformers) (4.55.4)\n",
      "Requirement already satisfied: tqdm in /home/sneeraj/miniconda3/envs/summariser/lib/python3.10/site-packages (from sentence-transformers) (4.67.1)\n",
      "Requirement already satisfied: torch>=1.11.0 in /home/sneeraj/miniconda3/envs/summariser/lib/python3.10/site-packages (from sentence-transformers) (2.8.0)\n",
      "Requirement already satisfied: scikit-learn in /home/sneeraj/miniconda3/envs/summariser/lib/python3.10/site-packages (from sentence-transformers) (1.7.1)\n",
      "Requirement already satisfied: scipy in /home/sneeraj/miniconda3/envs/summariser/lib/python3.10/site-packages (from sentence-transformers) (1.15.3)\n",
      "Requirement already satisfied: huggingface-hub>=0.20.0 in /home/sneeraj/miniconda3/envs/summariser/lib/python3.10/site-packages (from sentence-transformers) (0.34.4)\n",
      "Requirement already satisfied: Pillow in /home/sneeraj/miniconda3/envs/summariser/lib/python3.10/site-packages (from sentence-transformers) (11.3.0)\n",
      "Requirement already satisfied: typing_extensions>=4.5.0 in /home/sneeraj/miniconda3/envs/summariser/lib/python3.10/site-packages (from sentence-transformers) (4.15.0)\n",
      "Requirement already satisfied: filelock in /home/sneeraj/miniconda3/envs/summariser/lib/python3.10/site-packages (from huggingface-hub>=0.20.0->sentence-transformers) (3.19.1)\n",
      "Requirement already satisfied: fsspec>=2023.5.0 in /home/sneeraj/miniconda3/envs/summariser/lib/python3.10/site-packages (from huggingface-hub>=0.20.0->sentence-transformers) (2025.7.0)\n",
      "Requirement already satisfied: packaging>=20.9 in /home/sneeraj/miniconda3/envs/summariser/lib/python3.10/site-packages (from huggingface-hub>=0.20.0->sentence-transformers) (24.2)\n",
      "Requirement already satisfied: pyyaml>=5.1 in /home/sneeraj/miniconda3/envs/summariser/lib/python3.10/site-packages (from huggingface-hub>=0.20.0->sentence-transformers) (6.0.2)\n",
      "Requirement already satisfied: requests in /home/sneeraj/miniconda3/envs/summariser/lib/python3.10/site-packages (from huggingface-hub>=0.20.0->sentence-transformers) (2.32.5)\n",
      "Requirement already satisfied: hf-xet<2.0.0,>=1.1.3 in /home/sneeraj/miniconda3/envs/summariser/lib/python3.10/site-packages (from huggingface-hub>=0.20.0->sentence-transformers) (1.1.8)\n",
      "Requirement already satisfied: sympy>=1.13.3 in /home/sneeraj/miniconda3/envs/summariser/lib/python3.10/site-packages (from torch>=1.11.0->sentence-transformers) (1.14.0)\n",
      "Requirement already satisfied: networkx in /home/sneeraj/miniconda3/envs/summariser/lib/python3.10/site-packages (from torch>=1.11.0->sentence-transformers) (3.4.2)\n",
      "Requirement already satisfied: jinja2 in /home/sneeraj/miniconda3/envs/summariser/lib/python3.10/site-packages (from torch>=1.11.0->sentence-transformers) (3.1.6)\n",
      "Requirement already satisfied: nvidia-cuda-nvrtc-cu12==12.8.93 in /home/sneeraj/miniconda3/envs/summariser/lib/python3.10/site-packages (from torch>=1.11.0->sentence-transformers) (12.8.93)\n",
      "Requirement already satisfied: nvidia-cuda-runtime-cu12==12.8.90 in /home/sneeraj/miniconda3/envs/summariser/lib/python3.10/site-packages (from torch>=1.11.0->sentence-transformers) (12.8.90)\n",
      "Requirement already satisfied: nvidia-cuda-cupti-cu12==12.8.90 in /home/sneeraj/miniconda3/envs/summariser/lib/python3.10/site-packages (from torch>=1.11.0->sentence-transformers) (12.8.90)\n",
      "Requirement already satisfied: nvidia-cudnn-cu12==9.10.2.21 in /home/sneeraj/miniconda3/envs/summariser/lib/python3.10/site-packages (from torch>=1.11.0->sentence-transformers) (9.10.2.21)\n",
      "Requirement already satisfied: nvidia-cublas-cu12==12.8.4.1 in /home/sneeraj/miniconda3/envs/summariser/lib/python3.10/site-packages (from torch>=1.11.0->sentence-transformers) (12.8.4.1)\n",
      "Requirement already satisfied: nvidia-cufft-cu12==11.3.3.83 in /home/sneeraj/miniconda3/envs/summariser/lib/python3.10/site-packages (from torch>=1.11.0->sentence-transformers) (11.3.3.83)\n",
      "Requirement already satisfied: nvidia-curand-cu12==10.3.9.90 in /home/sneeraj/miniconda3/envs/summariser/lib/python3.10/site-packages (from torch>=1.11.0->sentence-transformers) (10.3.9.90)\n",
      "Requirement already satisfied: nvidia-cusolver-cu12==11.7.3.90 in /home/sneeraj/miniconda3/envs/summariser/lib/python3.10/site-packages (from torch>=1.11.0->sentence-transformers) (11.7.3.90)\n",
      "Requirement already satisfied: nvidia-cusparse-cu12==12.5.8.93 in /home/sneeraj/miniconda3/envs/summariser/lib/python3.10/site-packages (from torch>=1.11.0->sentence-transformers) (12.5.8.93)\n",
      "Requirement already satisfied: nvidia-cusparselt-cu12==0.7.1 in /home/sneeraj/miniconda3/envs/summariser/lib/python3.10/site-packages (from torch>=1.11.0->sentence-transformers) (0.7.1)\n",
      "Requirement already satisfied: nvidia-nccl-cu12==2.27.3 in /home/sneeraj/miniconda3/envs/summariser/lib/python3.10/site-packages (from torch>=1.11.0->sentence-transformers) (2.27.3)\n",
      "Requirement already satisfied: nvidia-nvtx-cu12==12.8.90 in /home/sneeraj/miniconda3/envs/summariser/lib/python3.10/site-packages (from torch>=1.11.0->sentence-transformers) (12.8.90)\n",
      "Requirement already satisfied: nvidia-nvjitlink-cu12==12.8.93 in /home/sneeraj/miniconda3/envs/summariser/lib/python3.10/site-packages (from torch>=1.11.0->sentence-transformers) (12.8.93)\n",
      "Requirement already satisfied: nvidia-cufile-cu12==1.13.1.3 in /home/sneeraj/miniconda3/envs/summariser/lib/python3.10/site-packages (from torch>=1.11.0->sentence-transformers) (1.13.1.3)\n",
      "Requirement already satisfied: triton==3.4.0 in /home/sneeraj/miniconda3/envs/summariser/lib/python3.10/site-packages (from torch>=1.11.0->sentence-transformers) (3.4.0)\n",
      "Requirement already satisfied: setuptools>=40.8.0 in /home/sneeraj/miniconda3/envs/summariser/lib/python3.10/site-packages (from triton==3.4.0->torch>=1.11.0->sentence-transformers) (78.1.1)\n",
      "Requirement already satisfied: numpy>=1.17 in /home/sneeraj/miniconda3/envs/summariser/lib/python3.10/site-packages (from transformers<5.0.0,>=4.41.0->sentence-transformers) (2.2.6)\n",
      "Requirement already satisfied: regex!=2019.12.17 in /home/sneeraj/miniconda3/envs/summariser/lib/python3.10/site-packages (from transformers<5.0.0,>=4.41.0->sentence-transformers) (2025.7.34)\n",
      "Requirement already satisfied: tokenizers<0.22,>=0.21 in /home/sneeraj/miniconda3/envs/summariser/lib/python3.10/site-packages (from transformers<5.0.0,>=4.41.0->sentence-transformers) (0.21.4)\n",
      "Requirement already satisfied: safetensors>=0.4.3 in /home/sneeraj/miniconda3/envs/summariser/lib/python3.10/site-packages (from transformers<5.0.0,>=4.41.0->sentence-transformers) (0.6.2)\n",
      "Requirement already satisfied: joblib>=1.2.0 in /home/sneeraj/miniconda3/envs/summariser/lib/python3.10/site-packages (from scikit-learn->sentence-transformers) (1.5.1)\n",
      "Requirement already satisfied: threadpoolctl>=3.1.0 in /home/sneeraj/miniconda3/envs/summariser/lib/python3.10/site-packages (from scikit-learn->sentence-transformers) (3.6.0)\n",
      "Requirement already satisfied: mpmath<1.4,>=1.1.0 in /home/sneeraj/miniconda3/envs/summariser/lib/python3.10/site-packages (from sympy>=1.13.3->torch>=1.11.0->sentence-transformers) (1.3.0)\n",
      "Requirement already satisfied: MarkupSafe>=2.0 in /home/sneeraj/miniconda3/envs/summariser/lib/python3.10/site-packages (from jinja2->torch>=1.11.0->sentence-transformers) (3.0.2)\n",
      "Requirement already satisfied: charset_normalizer<4,>=2 in /home/sneeraj/miniconda3/envs/summariser/lib/python3.10/site-packages (from requests->huggingface-hub>=0.20.0->sentence-transformers) (3.4.3)\n",
      "Requirement already satisfied: idna<4,>=2.5 in /home/sneeraj/miniconda3/envs/summariser/lib/python3.10/site-packages (from requests->huggingface-hub>=0.20.0->sentence-transformers) (3.10)\n",
      "Requirement already satisfied: urllib3<3,>=1.21.1 in /home/sneeraj/miniconda3/envs/summariser/lib/python3.10/site-packages (from requests->huggingface-hub>=0.20.0->sentence-transformers) (2.5.0)\n",
      "Requirement already satisfied: certifi>=2017.4.17 in /home/sneeraj/miniconda3/envs/summariser/lib/python3.10/site-packages (from requests->huggingface-hub>=0.20.0->sentence-transformers) (2025.8.3)\n",
      "\u001b[33mDEPRECATION: textract 1.6.5 has a non-standard dependency specifier extract-msg<=0.29.*. pip 24.1 will enforce this behaviour change. A possible replacement is to upgrade to a newer version of textract or contact the author to suggest that they release a version with a conforming dependency specifiers. Discussion can be found at https://github.com/pypa/pip/issues/12063\u001b[0m\u001b[33m\n",
      "\u001b[0m\n",
      "\u001b[1m[\u001b[0m\u001b[34;49mnotice\u001b[0m\u001b[1;39;49m]\u001b[0m\u001b[39;49m A new release of pip is available: \u001b[0m\u001b[31;49m24.0\u001b[0m\u001b[39;49m -> \u001b[0m\u001b[32;49m25.2\u001b[0m\n",
      "\u001b[1m[\u001b[0m\u001b[34;49mnotice\u001b[0m\u001b[1;39;49m]\u001b[0m\u001b[39;49m To update, run: \u001b[0m\u001b[32;49mpip install --upgrade pip\u001b[0m\n",
      "Note: you may need to restart the kernel to use updated packages.\n"
     ]
    }
   ],
   "source": [
    "%pip install sentence-transformers\n"
   ]
  },
  {
   "cell_type": "code",
   "execution_count": 60,
   "id": "9a2673fe",
   "metadata": {},
   "outputs": [
    {
     "name": "stdout",
     "output_type": "stream",
     "text": [
      "Error decoding JSON for file: 002.pdf\n",
      "Invalid string content: ```\n",
      "{\n",
      "  \"status\": \"valid\",\n",
      "  \"name\": \"Clara Fernandez\",\n",
      "  \"email\": \"clara.fernandez@email.com\",\n",
      "  \"phone\": \"(123) 456-7890\",\n",
      "  \"location\": \"San Antonio, TX\",\n",
      "  \"education\": [\n",
      "    {\n",
      "      \"degree\": \"M.A.\",\n",
      "      \"field\": \"English\",\n",
      "      \"university\": \"University of Texas at San Antonio\",\n",
      "      \"dates\": \"January 2021 - May 2023\"\n",
      "    },\n",
      "    {\n",
      "      \"degree\": \"B.A.\",\n",
      "      \"field\": \"English\",\n",
      "      \"university\": \"Texas A&M University\",\n",
      "      \"dates\": \"August 2016 - June 2020\"\n",
      "    }\n",
      "  ],\n",
      "  \"experience\": [\n",
      "    {\n",
      "      \"title\": \"Public Relations Intern\",\n",
      "      \"company\": \"The DeBerry Group\",\n",
      "      \"dates\": \"July 2023 - Current\",\n",
      "      \"achievements\": [\n",
      "        \"Conducted market research to identify 24 media trends and competitor strategies\",\n",
      "        \"Drafted 17 press releases, boosting client visibility in target markets by 36%\",\n",
      "        \"Practiced keyword research to optimize 11 press releases for search engine visibility\",\n",
      "        \"Monitored current media with iNews, identifying 8 media coverage opportunities\"\n",
      "      ]\n",
      "    },\n",
      "    {\n",
      "      \"title\": \"Editor\",\n",
      "      \"project\": \"Cultural Studies\",\n",
      "      \"dates\": \"October 2019 - February 2020\",\n",
      "      \"achievements\": [\n",
      "        \"Edited 46 articles for clarity, grammar, and adherence to project guidelines\",\n",
      "        \"Managed all editorial deadlines, maintaining a 94% on-time delivery rate\",\n",
      "        \"Provided constructive feedback to writers, lowering repeated mistakes by 27%\",\n",
      "        \"Promoted the project on social media, gaining an average of 1,394 views per post\"\n",
      "      ]\n",
      "    },\n",
      "    {\n",
      "      \"title\": \"Research Member\",\n",
      "      \"project\": \"Literary Analysis Papers\",\n",
      "      \"dates\": \"May 2018 - August 2018\",\n",
      "      \"achievements\": [\n",
      "        \"Analyzed 19 detailed literary papers, showing research and critical thinking abilities\",\n",
      "        \"Used logical reasoning to identify 3 thematic inconsistencies within literary works\",\n",
      "        \"Researched 6 complex literary theories, improving the project's academic credibility\",\n",
      "        \"Leveraged Microsoft Word to format and finalize 12 analysis drafts\"\n",
      "      ]\n",
      "    }\n",
      "  ],\n",
      "\n",
      "Error details: Expecting property name enclosed in double quotes: line 56 column 5 (char 2073)\n"
     ]
    }
   ],
   "source": [
    "import shutil\n",
    "import json\n",
    "import traceback\n",
    "\n",
    "from sentence_transformers import SentenceTransformer\n",
    "hf_model = SentenceTransformer(\"all-MiniLM-L6-v2\")  \n",
    "\n",
    "\n",
    "folder_processed =\"resumes/processed\"\n",
    "folder_rejected =\"resumes/rejected\"\n",
    "\n",
    "for filename in summary_dict.keys():\n",
    "    resume_str = summary_dict[filename]\n",
    "    cleaned_str = resume_str.strip().strip(\"```json\").strip(\"```\")\n",
    "    try:\n",
    "        if not cleaned_str:\n",
    "            print(f\"Skipping file: {filename}\")\n",
    "            continue\n",
    "\n",
    "        resume = json.loads(cleaned_str)\n",
    "        status = resume.get(\"status\", \"invalid\")\n",
    "\n",
    "        if status == 'valid':\n",
    "            text_to_embed = resume[\"summary\"] + \"Skills : \" + str(resume[\"skills\"])\n",
    "\n",
    "            embedding = hf_model.encode(text_to_embed).tolist()\n",
    "        \n",
    "            metadata = {\n",
    "                \"name\": resume[\"name\"],\n",
    "                \"email\": resume[\"email\"],\n",
    "                \"phone\": resume[\"phone\"],\n",
    "                \"location\": resume[\"location\"],\n",
    "                \"skills\": str(resume[\"skills\"]),\n",
    "                \"summary\": resume[\"summary\"]\n",
    "            }\n",
    "\n",
    "            index.upsert([\n",
    "                {\n",
    "                    \"id\" :filename.split('.')[0],\n",
    "                    \"values\" : embedding,\n",
    "                    \"metadata\" : metadata\n",
    "                }\n",
    "                ])\n",
    "            shutil.move(f\"{folder_queue}/{filename.split('.')[0]}.pdf\",f\"{folder_processed}/{filename.split('.')[0]}.pdf\")\n",
    "        elif status == 'invalid' : \n",
    "            shutil.move(f\"{folder_queue}/{filename.split('.')[0]}.pdf\",f\"{folder_rejected}/{filename.split('.')[0]}.pdf\")\n",
    "\n",
    "    except json.JSONDecodeError as e:\n",
    "        print(f\"Error decoding JSON for file: {filename}\")\n",
    "        print(f\"Invalid string content: {resume_str}\")\n",
    "        print(f\"Error details: {e}\")\n",
    "\n",
    "    except Exception as e:\n",
    "        print(f\"An unexpected error occurred for file: {filename}\")\n",
    "        print(f\"Invalid string content: {resume_str}\")\n",
    "        traceback.print_exc()\n",
    "\n"
   ]
  },
  {
   "cell_type": "code",
   "execution_count": null,
   "id": "22b6ee05",
   "metadata": {},
   "outputs": [
    {
     "name": "stdout",
     "output_type": "stream",
     "text": [
      "Processing valid resume from 001.pdf with status: valid\n",
      "Name: Neeraj Suriya\n",
      "Processing valid resume from 002.pdf with status: valid\n",
      "Name: Neeraj Suriya\n"
     ]
    }
   ],
   "source": [
    "# import json\n",
    "# import shutil\n",
    "# import traceback\n",
    "\n",
    "# folder_processed = \"resumes/processed\"\n",
    "# folder_rejected = \"resumes/rejected\"\n",
    "\n",
    "\n",
    "# for filename in summary_dict.keys():\n",
    "#     resume_str = summary_dict[filename]\n",
    "    \n",
    "#     # Strip the markdown code block notation using string methods\n",
    "#     cleaned_str = resume_str.strip().strip(\"```json\").strip(\"```\")\n",
    "    \n",
    "#     try:\n",
    "#         if not cleaned_str:\n",
    "#             print(f\"Skipping empty resume string for file: {filename}\")\n",
    "#             continue\n",
    "\n",
    "#         resume = json.loads(cleaned_str)\n",
    "        \n",
    "#         # Safely access the status key using .get() to prevent a KeyError\n",
    "#         status = resume.get(\"status\", \"unknown\")\n",
    "        \n",
    "#         if status == 'valid':\n",
    "#             # Example: Process valid resumes\n",
    "#             text_to_embed = resume.get(\"summary\", \"\") + \"Skills : \" + str(resume.get(\"skills\", []))\n",
    "#             print(f\"Processing valid resume from {filename} with status: {status}\")\n",
    "            \n",
    "#             # Now you can safely access other keys\n",
    "#             name = resume.get(\"name\", \"N/A\")\n",
    "#             print(f\"Name: {name}\")\n",
    "\n",
    "#         elif status == 'invalid':\n",
    "#             # Example: Handle invalid resumes\n",
    "#             print(f\"Rejecting resume from {filename} with status: {status}\")\n",
    "#             # If you have the original file, you can move it\n",
    "#             # shutil.move(f\"{folder_queue}/{filename.split('.')}.pdf\", f\"{folder_rejected}/{filename.split('.')}.pdf\")\n",
    "            \n",
    "#     except json.JSONDecodeError as e:\n",
    "#         print(f\"Error decoding JSON for file: {filename}\")\n",
    "#         print(f\"Invalid string content: {resume_str}\")\n",
    "#         print(f\"Error details: {e}\")\n",
    "#     except Exception as e:\n",
    "#         print(f\"An unexpected error occurred for file: {filename}\")\n",
    "#         print(f\"Invalid string content: {resume_str}\")\n",
    "#         traceback.print_exc()\n"
   ]
  }
 ],
 "metadata": {
  "kernelspec": {
   "display_name": "summariser",
   "language": "python",
   "name": "python3"
  },
  "language_info": {
   "codemirror_mode": {
    "name": "ipython",
    "version": 3
   },
   "file_extension": ".py",
   "mimetype": "text/x-python",
   "name": "python",
   "nbconvert_exporter": "python",
   "pygments_lexer": "ipython3",
   "version": "3.10.18"
  }
 },
 "nbformat": 4,
 "nbformat_minor": 5
}
