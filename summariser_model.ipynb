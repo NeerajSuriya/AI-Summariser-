{
 "cells": [
  {
   "cell_type": "markdown",
   "id": "36b0d19f",
   "metadata": {},
   "source": [
    "Essential Packages"
   ]
  },
  {
   "cell_type": "code",
   "execution_count": null,
   "id": "8ec38215",
   "metadata": {},
   "outputs": [],
   "source": [
    "%pip install  groq\n"
   ]
  },
  {
   "cell_type": "code",
   "execution_count": null,
   "id": "a2163276",
   "metadata": {},
   "outputs": [],
   "source": [
    "# pip install groq pdfplumber pytesseract watchdog python-dotenv pdf2image python-docx docx2txt \n"
   ]
  },
  {
   "cell_type": "code",
   "execution_count": null,
   "id": "70062cae",
   "metadata": {},
   "outputs": [],
   "source": [
    "# %pip install \"pip<24.1\"\n",
    "# %pip install textract\n"
   ]
  },
  {
   "cell_type": "code",
   "execution_count": null,
   "id": "b8f1d3e7",
   "metadata": {},
   "outputs": [],
   "source": [
    "%pip install --upgrade pymupdf"
   ]
  },
  {
   "cell_type": "markdown",
   "id": "cf4773df",
   "metadata": {},
   "source": [
    "API connections"
   ]
  },
  {
   "cell_type": "code",
   "execution_count": null,
   "id": "10ff6701",
   "metadata": {},
   "outputs": [],
   "source": [
    "from dotenv import load_dotenv\n",
    "load_dotenv()"
   ]
  },
  {
   "cell_type": "code",
   "execution_count": null,
   "id": "2405c2bc",
   "metadata": {},
   "outputs": [],
   "source": [
    "GROQ_API_KEY=os.environ.get(\"GROQ_API_KEY\")"
   ]
  },
  {
   "cell_type": "code",
   "execution_count": null,
   "id": "2cc91c40",
   "metadata": {},
   "outputs": [],
   "source": []
  },
  {
   "cell_type": "code",
   "execution_count": null,
   "id": "0d79c1ad",
   "metadata": {},
   "outputs": [],
   "source": [
    "import os \n",
    "import groq\n",
    "\n",
    "groq.api_key = GROQ_API_KEY"
   ]
  },
  {
   "cell_type": "markdown",
   "id": "bd53b198",
   "metadata": {},
   "source": [
    "Extracting files"
   ]
  },
  {
   "cell_type": "code",
   "execution_count": null,
   "id": "0e63af5d",
   "metadata": {},
   "outputs": [],
   "source": [
    "import pdfplumber"
   ]
  },
  {
   "cell_type": "code",
   "execution_count": null,
   "id": "02f631d1",
   "metadata": {},
   "outputs": [],
   "source": [
    "import groq"
   ]
  },
  {
   "cell_type": "code",
   "execution_count": null,
   "id": "b61c23fd",
   "metadata": {},
   "outputs": [
    {
     "name": "stdout",
     "output_type": "stream",
     "text": [
      "Processing file: resume_sample.pdf\n",
      "Processing file: resume_sample copy.pdf\n"
     ]
    }
   ],
   "source": [
    "from groq import Groq\n",
    "client = Groq(api_key=groq.api_key)\n",
    "\n",
    "\n",
    "summary_dict = {}\n",
    "\n",
    "folder_queue = \"resumes/queue\"\n",
    "for filename in os.listdir(folders):\n",
    "    filepath = os.path.join(folders,filename)\n",
    "    if os.path.isfile(filepath) and filename.lower().endswith((\".pdf\")):\n",
    "        print(\"Processing file:\", filename)\n",
    "        doc = pdfplumber.open(f\"/home/sneeraj/summariser/resumes/queue/{filename}\")\n",
    "        for page in doc.pages:\n",
    "            text = page.extract_text() + \"\\n\"\n",
    "            # print(text)\n",
    "            prompt = text + \"\\n tl;dr:\"\n",
    "            # print(len(text), text[:500])\n",
    "            response = client.chat.completions.create(\n",
    "                model=\"llama3-70b-8192\",\n",
    "                messages = [\n",
    "                    {\"role\": \"system\",\n",
    "                    \"content\" : (\n",
    "                        \"You are a AI assistant that extracts resume information from a resume  \"\n",
    "                        \"always return json dont inclue any other text\"\n",
    "                        \n",
    "                    )},\n",
    "                    {\"role\": \"user\",\n",
    "                    \"content\" : (\n",
    "                        \"first check if the pdf is valid or not and mark the status as valid or invalid if invalid u dont have to extract details just return the status in that json file\"\n",
    "                        f\"Here is the resume \\n\\n {text}\\n\\n return this in json formate : \\n and summarise at the end \"\n",
    "                            \"{\\n\"\n",
    "                            '  \"status\": \"valid\" or \"invalid\",\\n'\n",
    "                            '  \"name\": \"\",\\n'\n",
    "                            '  \"email\": \"\",\\n'\n",
    "                            '  \"phone\": \"\",\\n'\n",
    "                            '  \"location\": \"\",\\n'\n",
    "                            '  \"education\": [],\\n'\n",
    "                            '  \"experience\": [],\\n'\n",
    "                            '  \"skills\": []\\n'\n",
    "                            '  \"summary\": \"\",'\n",
    "                            \"}\"\n",
    "\n",
    "                    )\n",
    "                    }\n",
    "                ],\n",
    "                temperature=0.0,\n",
    "                max_tokens=500,\n",
    "            )\n",
    "    summary_dict[filename] = response.choices[0].message.content"
   ]
  },
  {
   "cell_type": "code",
   "execution_count": 144,
   "id": "129430a3",
   "metadata": {},
   "outputs": [],
   "source": [
    "folder_processed =\"resumes/processed\"\n",
    "\n",
    "for filename in summary_dict.keys():\n",
    "    with open(f\"{folder_processed}/{filename}.json\",\"a\") as f:\n",
    "        data = json.dump(summary_dict[filename],f , indent=4)"
   ]
  }
 ],
 "metadata": {
  "kernelspec": {
   "display_name": "summariser",
   "language": "python",
   "name": "python3"
  },
  "language_info": {
   "codemirror_mode": {
    "name": "ipython",
    "version": 3
   },
   "file_extension": ".py",
   "mimetype": "text/x-python",
   "name": "python",
   "nbconvert_exporter": "python",
   "pygments_lexer": "ipython3",
   "version": "3.10.18"
  }
 },
 "nbformat": 4,
 "nbformat_minor": 5
}
